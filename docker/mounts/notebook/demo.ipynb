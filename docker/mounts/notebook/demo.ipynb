{
 "cells": [
  {
   "cell_type": "code",
   "execution_count": null,
   "id": "98a0cd00-e5e9-4707-ae5a-a14a84dcc888",
   "metadata": {},
   "outputs": [],
   "source": [
    "library(httr2)\n",
    "library(jsonlite)\n",
    "library(dplyr)\n",
    "library(tidyjson)\n",
    "library(data.table)\n",
    "library(ggplot2)\n",
    "library(osmdata)\n",
    "library(showtext)\n",
    "library(ggtext)\n",
    "library(tidyr)"
   ]
  },
  {
   "cell_type": "code",
   "execution_count": null,
   "id": "2de7834f-902d-4e0a-8e65-7dcf8c969c30",
   "metadata": {},
   "outputs": [],
   "source": [
    "CLOUDERA_FLINK_MV_URL <- \"http://localhost:18131/api/v1/query/5195/summary?key=e148580d-875a-4906-b46c-f6e28b3990e8&limit=1000\"\n",
    "\n",
    "req <- request(CLOUDERA_FLINK_MV_URL) \n",
    "req <- req %>% req_headers(\"Accept\" = \"application/json\")\n",
    "resp <- req_perform(req)\n",
    "resp <- resp %>% resp_body_json()\n",
    "class(resp)\n",
    "\n",
    "mv_data <- as.data.frame(do.call(rbind, resp))\n",
    "mv_source <- cbind(mv_data, purrr::map_dfr(mv_data$location, fromJSON)) \n",
    "save(mv_source, file=\"example_mv_data_frame.txt\")"
   ]
  },
  {
   "cell_type": "code",
   "execution_count": 3,
   "id": "d10a62f1-c7b4-4816-9a9d-931190c80c07",
   "metadata": {},
   "outputs": [],
   "source": [
    "load(\"example_mv_data_frame.txt\")"
   ]
  }
 ],
 "metadata": {
  "kernelspec": {
   "display_name": "R",
   "language": "R",
   "name": "ir"
  },
  "language_info": {
   "codemirror_mode": "r",
   "file_extension": ".r",
   "mimetype": "text/x-r-source",
   "name": "R",
   "pygments_lexer": "r",
   "version": "4.3.1"
  }
 },
 "nbformat": 4,
 "nbformat_minor": 5
}
